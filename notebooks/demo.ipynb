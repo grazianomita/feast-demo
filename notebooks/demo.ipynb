{
 "cells": [
  {
   "cell_type": "markdown",
   "id": "61098ff5-6c57-4216-a0d1-e920b4d98a42",
   "metadata": {},
   "source": [
    "# Feast Demo"
   ]
  },
  {
   "cell_type": "code",
   "execution_count": 1,
   "id": "4f863aa4-7144-48b8-97ec-0cc0f959a4bc",
   "metadata": {},
   "outputs": [],
   "source": [
    "import pandas as pd"
   ]
  },
  {
   "cell_type": "code",
   "execution_count": 2,
   "id": "0ff6b3c4-6b7d-414f-b39c-e40403d061a8",
   "metadata": {},
   "outputs": [
    {
     "data": {
      "text/html": [
       "<div>\n",
       "<style scoped>\n",
       "    .dataframe tbody tr th:only-of-type {\n",
       "        vertical-align: middle;\n",
       "    }\n",
       "\n",
       "    .dataframe tbody tr th {\n",
       "        vertical-align: top;\n",
       "    }\n",
       "\n",
       "    .dataframe thead th {\n",
       "        text-align: right;\n",
       "    }\n",
       "</style>\n",
       "<table border=\"1\" class=\"dataframe\">\n",
       "  <thead>\n",
       "    <tr style=\"text-align: right;\">\n",
       "      <th></th>\n",
       "      <th>event_timestamp</th>\n",
       "      <th>driver_id</th>\n",
       "      <th>conv_rate</th>\n",
       "      <th>acc_rate</th>\n",
       "      <th>avg_daily_trips</th>\n",
       "      <th>created</th>\n",
       "    </tr>\n",
       "  </thead>\n",
       "  <tbody>\n",
       "    <tr>\n",
       "      <th>0</th>\n",
       "      <td>2024-03-06 16:00:00+00:00</td>\n",
       "      <td>1005</td>\n",
       "      <td>0.098983</td>\n",
       "      <td>0.229224</td>\n",
       "      <td>560</td>\n",
       "      <td>2024-03-21 16:00:07.931</td>\n",
       "    </tr>\n",
       "    <tr>\n",
       "      <th>1</th>\n",
       "      <td>2024-03-06 17:00:00+00:00</td>\n",
       "      <td>1005</td>\n",
       "      <td>0.597186</td>\n",
       "      <td>0.596457</td>\n",
       "      <td>785</td>\n",
       "      <td>2024-03-21 16:00:07.931</td>\n",
       "    </tr>\n",
       "    <tr>\n",
       "      <th>2</th>\n",
       "      <td>2024-03-06 18:00:00+00:00</td>\n",
       "      <td>1005</td>\n",
       "      <td>0.460126</td>\n",
       "      <td>0.218102</td>\n",
       "      <td>413</td>\n",
       "      <td>2024-03-21 16:00:07.931</td>\n",
       "    </tr>\n",
       "    <tr>\n",
       "      <th>3</th>\n",
       "      <td>2024-03-06 19:00:00+00:00</td>\n",
       "      <td>1005</td>\n",
       "      <td>0.738934</td>\n",
       "      <td>0.810678</td>\n",
       "      <td>374</td>\n",
       "      <td>2024-03-21 16:00:07.931</td>\n",
       "    </tr>\n",
       "    <tr>\n",
       "      <th>4</th>\n",
       "      <td>2024-03-06 20:00:00+00:00</td>\n",
       "      <td>1005</td>\n",
       "      <td>0.792706</td>\n",
       "      <td>0.913296</td>\n",
       "      <td>801</td>\n",
       "      <td>2024-03-21 16:00:07.931</td>\n",
       "    </tr>\n",
       "  </tbody>\n",
       "</table>\n",
       "</div>"
      ],
      "text/plain": [
       "            event_timestamp  driver_id  conv_rate  acc_rate  avg_daily_trips  \\\n",
       "0 2024-03-06 16:00:00+00:00       1005   0.098983  0.229224              560   \n",
       "1 2024-03-06 17:00:00+00:00       1005   0.597186  0.596457              785   \n",
       "2 2024-03-06 18:00:00+00:00       1005   0.460126  0.218102              413   \n",
       "3 2024-03-06 19:00:00+00:00       1005   0.738934  0.810678              374   \n",
       "4 2024-03-06 20:00:00+00:00       1005   0.792706  0.913296              801   \n",
       "\n",
       "                  created  \n",
       "0 2024-03-21 16:00:07.931  \n",
       "1 2024-03-21 16:00:07.931  \n",
       "2 2024-03-21 16:00:07.931  \n",
       "3 2024-03-21 16:00:07.931  \n",
       "4 2024-03-21 16:00:07.931  "
      ]
     },
     "execution_count": 2,
     "metadata": {},
     "output_type": "execute_result"
    }
   ],
   "source": [
    "df = pd.read_parquet('../feature_repo/data/driver_stats.parquet')\n",
    "df.head()"
   ]
  },
  {
   "cell_type": "markdown",
   "id": "3989fd82-d0df-45ff-b336-38df6ed02e46",
   "metadata": {},
   "source": [
    "## Feast apply (from feast repo directory)"
   ]
  },
  {
   "cell_type": "markdown",
   "id": "0d468e3c-10cb-4dfa-987e-6da89ee0c46b",
   "metadata": {},
   "source": [
    "When executing feast apply:\n",
    "- Feast will scan Python files in your feature repository and find all Feast object definitions, such as feature views, entities, and data sources.\n",
    "- Feast will validate your feature definition.\n",
    "- Feast will sync the metadata about Feast objects to the registry. If a registry does not exist, then it will be instantiated.\n",
    "- Feast will create all necessary feature store infrastructure."
   ]
  },
  {
   "cell_type": "markdown",
   "id": "0ffe032b-6c40-4317-b223-071b412abcc0",
   "metadata": {},
   "source": [
    "```bash\n",
    "feast apply\n",
    "\n",
    "Created entity driver\n",
    "Created feature view driver_hourly_stats_fresh\n",
    "Created feature view driver_hourly_stats\n",
    "Created feature service driver_activity_v2\n",
    "Created feature service driver_activity_v1\n",
    "\n",
    "Created sqlite table feast_demo_driver_hourly_stats_fresh\n",
    "Created sqlite table feast_demo_driver_hourly_stats\n",
    "```"
   ]
  },
  {
   "cell_type": "markdown",
   "id": "5573f8a4-86a5-45ec-a92e-db312716a58b",
   "metadata": {},
   "source": [
    "We have created:\n",
    "\n",
    "- the entity driver,\n",
    "- two feature views in the offline and online stores (because online=True), and\n",
    "- two feature services to be able to use the feature view at inference time"
   ]
  },
  {
   "cell_type": "markdown",
   "id": "f39ac31f-e679-4a86-b628-617b255d09ed",
   "metadata": {},
   "source": [
    "## Retrieve offline features for training/batch inference"
   ]
  },
  {
   "cell_type": "code",
   "execution_count": 3,
   "id": "06a1862e-a1f7-4537-b2a6-3f08f8f0a382",
   "metadata": {},
   "outputs": [],
   "source": [
    "from feast import FeatureStore\n",
    "from datetime import datetime"
   ]
  },
  {
   "cell_type": "code",
   "execution_count": 4,
   "id": "50a3c133-8ecb-46cd-86c6-d10f3a5081a4",
   "metadata": {},
   "outputs": [],
   "source": [
    "feature_store = FeatureStore(repo_path=\"../feature_repo\")"
   ]
  },
  {
   "cell_type": "code",
   "execution_count": 5,
   "id": "52fc48d5-db92-4fed-9137-5c26adbc9e58",
   "metadata": {},
   "outputs": [],
   "source": [
    "entity_df = pd.DataFrame.from_dict(\n",
    "    {\n",
    "        \"driver_id\": [1001, 1002, 1003, 1004, 1001],\n",
    "        \"event_timestamp\": [\n",
    "            datetime(2021, 4, 12, 10, 59, 42),\n",
    "            datetime(2021, 4, 12, 8, 12, 10),\n",
    "            datetime(2021, 4, 12, 16, 40, 26),\n",
    "            datetime(2021, 4, 12, 15, 1, 12),\n",
    "            datetime.now()\n",
    "        ]\n",
    "    }\n",
    ")"
   ]
  },
  {
   "cell_type": "code",
   "execution_count": 6,
   "id": "6f3a7eab-1b2a-448c-83e4-80cdd208513d",
   "metadata": {},
   "outputs": [
    {
     "data": {
      "text/html": [
       "<div>\n",
       "<style scoped>\n",
       "    .dataframe tbody tr th:only-of-type {\n",
       "        vertical-align: middle;\n",
       "    }\n",
       "\n",
       "    .dataframe tbody tr th {\n",
       "        vertical-align: top;\n",
       "    }\n",
       "\n",
       "    .dataframe thead th {\n",
       "        text-align: right;\n",
       "    }\n",
       "</style>\n",
       "<table border=\"1\" class=\"dataframe\">\n",
       "  <thead>\n",
       "    <tr style=\"text-align: right;\">\n",
       "      <th></th>\n",
       "      <th>driver_id</th>\n",
       "      <th>event_timestamp</th>\n",
       "    </tr>\n",
       "  </thead>\n",
       "  <tbody>\n",
       "    <tr>\n",
       "      <th>0</th>\n",
       "      <td>1001</td>\n",
       "      <td>2021-04-12 10:59:42.000000</td>\n",
       "    </tr>\n",
       "    <tr>\n",
       "      <th>1</th>\n",
       "      <td>1002</td>\n",
       "      <td>2021-04-12 08:12:10.000000</td>\n",
       "    </tr>\n",
       "    <tr>\n",
       "      <th>2</th>\n",
       "      <td>1003</td>\n",
       "      <td>2021-04-12 16:40:26.000000</td>\n",
       "    </tr>\n",
       "    <tr>\n",
       "      <th>3</th>\n",
       "      <td>1004</td>\n",
       "      <td>2021-04-12 15:01:12.000000</td>\n",
       "    </tr>\n",
       "    <tr>\n",
       "      <th>4</th>\n",
       "      <td>1001</td>\n",
       "      <td>2024-03-21 16:33:22.939165</td>\n",
       "    </tr>\n",
       "  </tbody>\n",
       "</table>\n",
       "</div>"
      ],
      "text/plain": [
       "   driver_id            event_timestamp\n",
       "0       1001 2021-04-12 10:59:42.000000\n",
       "1       1002 2021-04-12 08:12:10.000000\n",
       "2       1003 2021-04-12 16:40:26.000000\n",
       "3       1004 2021-04-12 15:01:12.000000\n",
       "4       1001 2024-03-21 16:33:22.939165"
      ]
     },
     "execution_count": 6,
     "metadata": {},
     "output_type": "execute_result"
    }
   ],
   "source": [
    "entity_df.head()"
   ]
  },
  {
   "cell_type": "code",
   "execution_count": 7,
   "id": "e35fde75-34f0-42bf-899c-02861350ba2f",
   "metadata": {},
   "outputs": [],
   "source": [
    "training_df = feature_store.get_historical_features(\n",
    "    entity_df=entity_df,\n",
    "    features=feature_store.get_feature_service(\"driver_activity_v1\"),  #features retrieved via the feature service\n",
    ").to_df()"
   ]
  },
  {
   "cell_type": "markdown",
   "id": "28690b36-46f7-48f8-972b-394f2c7c3a3c",
   "metadata": {},
   "source": [
    "We know that in driver_activity_v1 the driver_id appears several times, but get_historical_features() does a point-in-time join looking at event_timestamp and retrieving the most recent features at that time."
   ]
  },
  {
   "cell_type": "code",
   "execution_count": 8,
   "id": "8a8e8dfc-77ad-4603-8413-18343e57b974",
   "metadata": {},
   "outputs": [
    {
     "data": {
      "text/html": [
       "<div>\n",
       "<style scoped>\n",
       "    .dataframe tbody tr th:only-of-type {\n",
       "        vertical-align: middle;\n",
       "    }\n",
       "\n",
       "    .dataframe tbody tr th {\n",
       "        vertical-align: top;\n",
       "    }\n",
       "\n",
       "    .dataframe thead th {\n",
       "        text-align: right;\n",
       "    }\n",
       "</style>\n",
       "<table border=\"1\" class=\"dataframe\">\n",
       "  <thead>\n",
       "    <tr style=\"text-align: right;\">\n",
       "      <th></th>\n",
       "      <th>driver_id</th>\n",
       "      <th>event_timestamp</th>\n",
       "      <th>conv_rate</th>\n",
       "      <th>acc_rate</th>\n",
       "      <th>avg_daily_trips</th>\n",
       "    </tr>\n",
       "  </thead>\n",
       "  <tbody>\n",
       "    <tr>\n",
       "      <th>0</th>\n",
       "      <td>1001</td>\n",
       "      <td>2021-04-12 10:59:42+00:00</td>\n",
       "      <td>0.313460</td>\n",
       "      <td>0.967728</td>\n",
       "      <td>821</td>\n",
       "    </tr>\n",
       "    <tr>\n",
       "      <th>1</th>\n",
       "      <td>1002</td>\n",
       "      <td>2021-04-12 08:12:10+00:00</td>\n",
       "      <td>0.235467</td>\n",
       "      <td>0.025087</td>\n",
       "      <td>39</td>\n",
       "    </tr>\n",
       "    <tr>\n",
       "      <th>2</th>\n",
       "      <td>1003</td>\n",
       "      <td>2021-04-12 16:40:26+00:00</td>\n",
       "      <td>0.556940</td>\n",
       "      <td>0.157237</td>\n",
       "      <td>335</td>\n",
       "    </tr>\n",
       "    <tr>\n",
       "      <th>3</th>\n",
       "      <td>1004</td>\n",
       "      <td>2021-04-12 15:01:12+00:00</td>\n",
       "      <td>0.960231</td>\n",
       "      <td>0.239735</td>\n",
       "      <td>309</td>\n",
       "    </tr>\n",
       "    <tr>\n",
       "      <th>4</th>\n",
       "      <td>1001</td>\n",
       "      <td>2024-03-21 16:33:22.939165+00:00</td>\n",
       "      <td>0.119581</td>\n",
       "      <td>0.766169</td>\n",
       "      <td>185</td>\n",
       "    </tr>\n",
       "  </tbody>\n",
       "</table>\n",
       "</div>"
      ],
      "text/plain": [
       "   driver_id                  event_timestamp  conv_rate  acc_rate  \\\n",
       "0       1001        2021-04-12 10:59:42+00:00   0.313460  0.967728   \n",
       "1       1002        2021-04-12 08:12:10+00:00   0.235467  0.025087   \n",
       "2       1003        2021-04-12 16:40:26+00:00   0.556940  0.157237   \n",
       "3       1004        2021-04-12 15:01:12+00:00   0.960231  0.239735   \n",
       "4       1001 2024-03-21 16:33:22.939165+00:00   0.119581  0.766169   \n",
       "\n",
       "   avg_daily_trips  \n",
       "0              821  \n",
       "1               39  \n",
       "2              335  \n",
       "3              309  \n",
       "4              185  "
      ]
     },
     "execution_count": 8,
     "metadata": {},
     "output_type": "execute_result"
    }
   ],
   "source": [
    "training_df"
   ]
  },
  {
   "cell_type": "markdown",
   "id": "dab7e82b-effb-444a-b011-43f20a1419bf",
   "metadata": {},
   "source": [
    "## Retrieve online features for online inference"
   ]
  },
  {
   "cell_type": "markdown",
   "id": "d7b48064-2173-45d5-89ed-8b5d58088ca6",
   "metadata": {},
   "source": [
    "### Materialization"
   ]
  },
  {
   "cell_type": "markdown",
   "id": "f723af64-e2ef-4a1b-a2e4-71bdb333f935",
   "metadata": {},
   "source": [
    "For online inference, we want to retrieve features very quickly via our online store, as opposed to fetching them from slow joins. However, the features are not in our online store just yet, so we'll need to materialize them first."
   ]
  },
  {
   "cell_type": "markdown",
   "id": "21e1c711-210e-4c58-a305-7d1ec348d489",
   "metadata": {},
   "source": [
    "```bash\n",
    "CURRENT_TIME=$(date -u +\"%Y-%m-%dT%H:%M:%S\")\r\n",
    "feast materialize-incremental $CURRENT_TIME\n",
    "``\n"
   ]
  },
  {
   "cell_type": "markdown",
   "id": "e02f0ccb-a7a7-4bd2-b049-035bebc8202c",
   "metadata": {},
   "source": [
    "In production, incremental materialization can be handled via Airflow operators or other job orchestrators."
   ]
  },
  {
   "cell_type": "code",
   "execution_count": 9,
   "id": "5a08184e-c9ba-44c6-9343-8b2e777d9592",
   "metadata": {
    "scrolled": true
   },
   "outputs": [
    {
     "name": "stdout",
     "output_type": "stream",
     "text": [
      "Materializing \u001b[1m\u001b[32m2\u001b[0m feature views to \u001b[1m\u001b[32m2024-03-21 16:33:23+01:00\u001b[0m into the \u001b[1m\u001b[32msqlite\u001b[0m online store.\n",
      "\n",
      "\u001b[1m\u001b[32mdriver_hourly_stats\u001b[0m from \u001b[1m\u001b[32m2023-03-22 15:33:23+01:00\u001b[0m to \u001b[1m\u001b[32m2024-03-21 16:33:23+01:00\u001b[0m:\n"
     ]
    },
    {
     "name": "stderr",
     "output_type": "stream",
     "text": [
      "100%|███████████████████████████████████████████████████████████████| 5/5 [00:00<00:00, 1540.55it/s]\n"
     ]
    },
    {
     "name": "stdout",
     "output_type": "stream",
     "text": [
      "\u001b[1m\u001b[32mdriver_hourly_stats_fresh\u001b[0m from \u001b[1m\u001b[32m2023-03-22 15:33:23+01:00\u001b[0m to \u001b[1m\u001b[32m2024-03-21 17:33:23+01:00\u001b[0m:\n"
     ]
    },
    {
     "name": "stderr",
     "output_type": "stream",
     "text": [
      "100%|███████████████████████████████████████████████████████████████| 5/5 [00:00<00:00, 2855.99it/s]\n"
     ]
    }
   ],
   "source": [
    "feature_store.materialize_incremental(end_date=datetime.now())"
   ]
  },
  {
   "cell_type": "markdown",
   "id": "a569fc68-59ee-4e5c-9b4e-5f20cf27704a",
   "metadata": {},
   "source": [
    "### Online Features"
   ]
  },
  {
   "cell_type": "code",
   "execution_count": 10,
   "id": "9a1d08c7-3bce-4fb2-8e2d-0d0f0b51f7b5",
   "metadata": {},
   "outputs": [
    {
     "data": {
      "text/html": [
       "<div>\n",
       "<style scoped>\n",
       "    .dataframe tbody tr th:only-of-type {\n",
       "        vertical-align: middle;\n",
       "    }\n",
       "\n",
       "    .dataframe tbody tr th {\n",
       "        vertical-align: top;\n",
       "    }\n",
       "\n",
       "    .dataframe thead th {\n",
       "        text-align: right;\n",
       "    }\n",
       "</style>\n",
       "<table border=\"1\" class=\"dataframe\">\n",
       "  <thead>\n",
       "    <tr style=\"text-align: right;\">\n",
       "      <th></th>\n",
       "      <th>driver_id</th>\n",
       "      <th>conv_rate</th>\n",
       "      <th>acc_rate</th>\n",
       "      <th>avg_daily_trips</th>\n",
       "    </tr>\n",
       "  </thead>\n",
       "  <tbody>\n",
       "    <tr>\n",
       "      <th>0</th>\n",
       "      <td>1001</td>\n",
       "      <td>0.119581</td>\n",
       "      <td>0.766169</td>\n",
       "      <td>185</td>\n",
       "    </tr>\n",
       "    <tr>\n",
       "      <th>1</th>\n",
       "      <td>1004</td>\n",
       "      <td>0.403795</td>\n",
       "      <td>0.815309</td>\n",
       "      <td>519</td>\n",
       "    </tr>\n",
       "  </tbody>\n",
       "</table>\n",
       "</div>"
      ],
      "text/plain": [
       "   driver_id  conv_rate  acc_rate  avg_daily_trips\n",
       "0       1001   0.119581  0.766169              185\n",
       "1       1004   0.403795  0.815309              519"
      ]
     },
     "execution_count": 10,
     "metadata": {},
     "output_type": "execute_result"
    }
   ],
   "source": [
    "feature_store.get_online_features(\n",
    "    entity_rows=[  # no timestamp required because only the most recent features are retrieved for the following entity values\n",
    "        {\"driver_id\": 1001},\n",
    "        {\"driver_id\": 1004},\n",
    "    ],\n",
    "    features=feature_store.get_feature_service(\"driver_activity_v1\"),\n",
    ").to_df()"
   ]
  },
  {
   "cell_type": "code",
   "execution_count": null,
   "id": "dcaf703f-cdd5-4b40-ae00-b8682233ba4a",
   "metadata": {},
   "outputs": [],
   "source": []
  }
 ],
 "metadata": {
  "kernelspec": {
   "display_name": "Python 3 (ipykernel)",
   "language": "python",
   "name": "python3"
  },
  "language_info": {
   "codemirror_mode": {
    "name": "ipython",
    "version": 3
   },
   "file_extension": ".py",
   "mimetype": "text/x-python",
   "name": "python",
   "nbconvert_exporter": "python",
   "pygments_lexer": "ipython3",
   "version": "3.10.6"
  }
 },
 "nbformat": 4,
 "nbformat_minor": 5
}
